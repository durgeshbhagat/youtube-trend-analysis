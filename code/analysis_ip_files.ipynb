{
 "cells": [
  {
   "cell_type": "code",
   "execution_count": 1,
   "metadata": {},
   "outputs": [],
   "source": [
    "# A program to analysis input files\n",
    "#import modules\n",
    "import sys\n",
    "import os"
   ]
  },
  {
   "cell_type": "code",
   "execution_count": 2,
   "metadata": {},
   "outputs": [
    {
     "name": "stdout",
     "output_type": "stream",
     "text": [
      "/home/durgesh/code_dir/youtube-trend-analysis/data\n",
      "True\n"
     ]
    }
   ],
   "source": [
    "# Global path variables\n",
    "base_dir = os.path.dirname(os.path.dirname(os.path.abspath(sys.argv[1])))\n",
    "ip_dir = os.path.join(base_dir, 'data')\n",
    "print(ip_dir)\n",
    "print(os.path.exists(ip_dir)) # cheking wether ip dir exists or not!"
   ]
  },
  {
   "cell_type": "code",
   "execution_count": 3,
   "metadata": {},
   "outputs": [
    {
     "name": "stdout",
     "output_type": "stream",
     "text": [
      "Total No of Files : 222\n"
     ]
    }
   ],
   "source": [
    "# find the the total no of files and typesyes of files\n",
    "file_list = os.listdir(ip_dir)\n",
    "print('Total No of Files :' ,len(file_list))"
   ]
  },
  {
   "cell_type": "code",
   "execution_count": 4,
   "metadata": {},
   "outputs": [
    {
     "data": {
      "text/plain": [
       "['18.01.11_GB_videos.csv',\n",
       " '18.01.11_IN_videos.csv',\n",
       " '18.01.11_US_videos.csv',\n",
       " '18.01.12_GB_videos.csv',\n",
       " '18.01.12_IN_videos.csv',\n",
       " '18.01.12_US_videos.csv',\n",
       " '18.02.11_GB_videos.csv',\n",
       " '18.02.11_IN_videos.csv',\n",
       " '18.02.11_US_videos.csv',\n",
       " '18.02.12_GB_videos.csv']"
      ]
     },
     "execution_count": 4,
     "metadata": {},
     "output_type": "execute_result"
    }
   ],
   "source": [
    "file_list.sort()\n",
    "file_list[:10]"
   ]
  },
  {
   "cell_type": "code",
   "execution_count": 9,
   "metadata": {},
   "outputs": [
    {
     "name": "stdout",
     "output_type": "stream",
     "text": [
      "/home/durgesh/code_dir/youtube-trend-analysis/data/18.01.11_GB_videos.csv\n",
      " column names: Index(['video_id', 'title', 'publishedAt', 'channelId', 'channelTitle',\n",
      "       'categoryId', 'trending_date', 'tags', 'view_count', 'likes',\n",
      "       'dislikes', 'comment_count', 'thumbnail_link', 'comments_disabled',\n",
      "       'ratings_disabled', 'description'],\n",
      "      dtype='object')\n"
     ]
    }
   ],
   "source": [
    "# Printing column name of files\n",
    "fname_total = os.path.join(ip_dir, file_list[0])\n",
    "print(fname_total)\n",
    "import pandas as pd\n",
    "df = pd.read_csv(fname_total)\n",
    "print(' column names:' , df.columns)"
   ]
  },
  {
   "cell_type": "code",
   "execution_count": 11,
   "metadata": {},
   "outputs": [
    {
     "name": "stdout",
     "output_type": "stream",
     "text": [
      "Uniq Category: [24 10 28  1 27 17 23 22 26 19 20 43 25]\n"
     ]
    }
   ],
   "source": [
    "# Printing uniq category of file[0]\n",
    "print('Uniq Category:', df['categoryId'].unique())"
   ]
  },
  {
   "cell_type": "code",
   "execution_count": 16,
   "metadata": {},
   "outputs": [],
   "source": [
    "# count of each category in file[0]\n",
    "df2 = df.groupby('categoryId')['title']"
   ]
  },
  {
   "cell_type": "code",
   "execution_count": 13,
   "metadata": {},
   "outputs": [
    {
     "data": {
      "text/plain": [
       "'Worst Halloween Candy Taste Test (Day 3)'"
      ]
     },
     "execution_count": 13,
     "metadata": {},
     "output_type": "execute_result"
    }
   ],
   "source": [
    "# Accesing a row \n",
    "df['title'][0]"
   ]
  },
  {
   "cell_type": "code",
   "execution_count": 20,
   "metadata": {},
   "outputs": [
    {
     "name": "stdout",
     "output_type": "stream",
     "text": [
      "<class 'pandas.core.groupby.generic.SeriesGroupBy'>\n"
     ]
    }
   ],
   "source": [
    "print(type(df2))"
   ]
  },
  {
   "cell_type": "code",
   "execution_count": null,
   "metadata": {},
   "outputs": [],
   "source": []
  }
 ],
 "metadata": {
  "kernelspec": {
   "display_name": "Python 3",
   "language": "python",
   "name": "python3"
  },
  "language_info": {
   "codemirror_mode": {
    "name": "ipython",
    "version": 3
   },
   "file_extension": ".py",
   "mimetype": "text/x-python",
   "name": "python",
   "nbconvert_exporter": "python",
   "pygments_lexer": "ipython3",
   "version": "3.6.8"
  }
 },
 "nbformat": 4,
 "nbformat_minor": 2
}
